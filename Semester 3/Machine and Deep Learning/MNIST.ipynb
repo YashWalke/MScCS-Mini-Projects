{
 "cells": [
  {
   "cell_type": "markdown",
   "id": "448cbc17",
   "metadata": {},
   "source": [
    "# <center>Detecting handwritten numbers using Torch using MNIST dataset</center>\n",
    "\n",
    "---"
   ]
  },
  {
   "cell_type": "markdown",
   "id": "3518fc62",
   "metadata": {},
   "source": [
    "**<abbr title = \"Modified National Institute of Standards and Technology\"><u>MNIST</u></abbr> database:**\n",
    "> The MNIST database (Modified National Institute of Standards and Technology database) is a large database of handwritten digits that is commonly used for training various image processing systems. The database is also widely used for training and testing in the field of machine learning. It was created by \"re-mixing\" the samples from NIST's original datasets. - [Wikipedia](https://en.wikipedia.org/wiki/MNIST_database)\n",
    "\n",
    "\n",
    "**PyTorch:**\n",
    "> PyTorch is an open source machine learning framework based on the [Torch](#Torch) library, used for applications such as computer vision and natural language processing, primarily developed by Meta AI. It is free and open-source software released under the Modified BSD license. - [Wikipedia](https://en.wikipedia.org/wiki/PyTorch)\n",
    "\n",
    "\n",
    "**Torch:**\n",
    "> Torch is an open-source machine learning library, a scientific computing framework, and a script language based on the Lua programming language. It provides a wide range of algorithms for deep learning, and uses the scripting language LuaJIT, and an underlying C implementation. It was created at IDIAP at EPFL. As of 2018, Torch is no longer in active development. - [Wikipedia](https://en.wikipedia.org/wiki/Torch_(machine_learning)\n",
    "\n",
    "\n",
    "**Convolutional Neural Network:**\n",
    "> A convolutional neural network (CNN or ConvNet), is a network architecture for deep learning which learns directly from data, eliminating the need for manual feature extraction.\n",
    "CNNs are particularly useful for finding patterns in images to recognize objects, faces, and scenes. They can also be quite effective for classifying non-image data such as audio, time series, and signal data.\n",
    "Applications that call for object recognition and computer vision — such as self-driving vehicles and face-recognition applications — rely heavily on CNNs. - [MathWorks](https://www.mathworks.com/discovery/convolutional-neural-network-matlab.html)"
   ]
  },
  {
   "cell_type": "markdown",
   "id": "58ba92a9",
   "metadata": {},
   "source": [
    "## <center> Import required libraries </center>"
   ]
  },
  {
   "cell_type": "code",
   "execution_count": 1,
   "id": "11a8e2eb",
   "metadata": {},
   "outputs": [],
   "source": [
    "import torch\n",
    "import torchvision"
   ]
  },
  {
   "cell_type": "markdown",
   "id": "ceed4868",
   "metadata": {},
   "source": [
    "## <center>Define hyperparameters</center>\n",
    "\n",
    "---\n",
    "\n",
    "1. **n_epochs:** Total number of times the dataset should be iterated over.\n",
    "2. **batch_size_train:** Number of records used for training the neural network.\n",
    "3. **batch_size_test:** Number of records used for testing.\n",
    "4. **torch.backends.cudnn.enabled:** <abbr title = \"NVIDIA® CUDA® Deep Neural Networks\">cuDNN</abbr> uses nondeterministic algorithms for processing. Hence it needs to be disabled.\n",
    "5. **torch.manual_seed():** Sets a manual seed for random number generation."
   ]
  },
  {
   "cell_type": "code",
   "execution_count": 2,
   "id": "284f4b41",
   "metadata": {},
   "outputs": [
    {
     "data": {
      "text/plain": [
       "<torch._C.Generator at 0x26136028630>"
      ]
     },
     "execution_count": 2,
     "metadata": {},
     "output_type": "execute_result"
    }
   ],
   "source": [
    "n_epochs = 3\n",
    "batch_size_train = 64\n",
    "batch_size_test = 1000\n",
    "learning_rate = 0.01\n",
    "momentum = 0.5\n",
    "log_interval = 10\n",
    "\n",
    "random_seed = 1\n",
    "torch.backends.cudnn.enabled = False\n",
    "torch.manual_seed(random_seed)"
   ]
  },
  {
   "cell_type": "markdown",
   "id": "ffc815ae",
   "metadata": {},
   "source": [
    "## <center>Load Dataset</center>\n",
    "\n",
    "---\n",
    "**Function descriptions:**\n",
    "+ [`torch.utils.data.DataLoader()`](https://pytorch.org/docs/stable/data.html#torch.utils.data.DataLoader): Data loader. Combines a dataset and a sampler, and provides an iterable over the given dataset.\n",
    "+ [`torchvision.datasets.MNIST()`](https://pytorch.org/vision/stable/generated/torchvision.datasets.MNIST.html#torchvision.datasets.MNIST): MNIST dataset.\n",
    "+ [`torchvision.transforms.Compose()`](https://pytorch.org/vision/stable/generated/torchvision.transforms.Compose.html#torchvision.transforms.Compose): Composes several transforms together.\n",
    "+ [`torchvision.transforms.ToTensor()`](https://pytorch.org/vision/stable/generated/torchvision.transforms.ToTensor.html#torchvision.transforms.ToTensor): Convert a PIL Image or [`numpy.ndarray`](https://numpy.org/doc/stable/reference/generated/numpy.ndarray.html) to tensor.\n",
    "+ [`torchvision.transforms.Normalize()`](https://pytorch.org/vision/stable/generated/torchvision.transforms.Normalize.html#torchvision.transforms.Normalize): Normalize a tensor image with mean and standard deviation.\n",
    "\n",
    "\n",
    "The values `0.1307` and `0.3081` correspond to the global mean and standard deviation for the MNIST dataset."
   ]
  },
  {
   "cell_type": "code",
   "execution_count": 3,
   "id": "7efadfdd",
   "metadata": {},
   "outputs": [],
   "source": [
    "train_loader = torch.utils.data.DataLoader(\n",
    "  torchvision.datasets.MNIST('/files/', train=True, download=True,\n",
    "                             transform=torchvision.transforms.Compose([\n",
    "                               torchvision.transforms.ToTensor(),\n",
    "                               torchvision.transforms.Normalize(\n",
    "                                 (0.1307,), (0.3081,))\n",
    "                             ])),\n",
    "  batch_size=batch_size_train, shuffle=True)\n",
    "\n",
    "test_loader = torch.utils.data.DataLoader(\n",
    "  torchvision.datasets.MNIST('/files/', train=False, download=True,\n",
    "                             transform=torchvision.transforms.Compose([\n",
    "                               torchvision.transforms.ToTensor(),\n",
    "                               torchvision.transforms.Normalize(\n",
    "                                 (0.1307,), (0.3081,))\n",
    "                             ])),\n",
    "  batch_size=batch_size_test, shuffle=True)"
   ]
  },
  {
   "cell_type": "markdown",
   "id": "bc3cee14",
   "metadata": {},
   "source": [
    "## <center>Viewing some examples</center>\n",
    "\n",
    "---\n",
    "**Function Description:**\n",
    "+ [`enumerate()`](https://docs.python.org/3/library/functions.html#enumerate): The enumerate() function takes a collection (e.g. a tuple) and returns it as an enumerate object. The enumerate() function adds a counter as the key of the enumerate object.\n",
    "+ `next()`: Return the next element in the iterable.\n",
    "\n",
    "\n",
    "`example_data.shape` returns a Tensor consisting of 1000 examples of 28 px x 28 px greyscale(represented by the '1') images."
   ]
  },
  {
   "cell_type": "code",
   "execution_count": 17,
   "id": "84a95808",
   "metadata": {},
   "outputs": [
    {
     "data": {
      "text/plain": [
       "torch.Size([1000, 1, 28, 28])"
      ]
     },
     "execution_count": 17,
     "metadata": {},
     "output_type": "execute_result"
    }
   ],
   "source": [
    "examples = enumerate(test_loader)\n",
    "batch_idx, (example_data, example_targets) = next(examples)\n",
    "\n",
    "example_data.shape"
   ]
  },
  {
   "cell_type": "code",
   "execution_count": 5,
   "id": "8e40aeb9",
   "metadata": {},
   "outputs": [],
   "source": [
    "%matplotlib inline"
   ]
  },
  {
   "cell_type": "code",
   "execution_count": 6,
   "id": "49f16a96",
   "metadata": {},
   "outputs": [
    {
     "data": {
      "image/png": "[encoded data removed]",
      "text/plain": [
       "<Figure size 432x288 with 6 Axes>"
      ]
     },
     "metadata": {},
     "output_type": "display_data"
    }
   ],
   "source": [
    "import matplotlib.pyplot as plt\n",
    "\n",
    "fig = plt.figure()\n",
    "for i in range(6):\n",
    "  plt.subplot(2,3,i+1)\n",
    "  plt.tight_layout()\n",
    "  plt.imshow(example_data[i][0], cmap='gray', interpolation='none')\n",
    "  plt.title(\"Ground Truth: {}\".format(example_targets[i]))\n",
    "  plt.xticks([])\n",
    "  plt.yticks([])"
   ]
  },
  {
   "cell_type": "markdown",
   "id": "65ff21fc",
   "metadata": {},
   "source": [
    "## <center>Building the network</center>\n",
    "\n",
    "---\n",
    "\n",
    "**Our network is built using the following.**:\n",
    "1. Two 2-D(Two-dimensional) convolutionary layers.\n",
    "2. Two fully-connected(linear) layers following the convolutionary layers.\n",
    "3. Rectified Linear Units(ReLU's) as an activation function.\n",
    "4. Two dropout layers for regularization."
   ]
  },
  {
   "cell_type": "markdown",
   "id": "c1d9eda8",
   "metadata": {},
   "source": [
    "### <center>Import submodules</center>\n",
    "\n",
    "---\n",
    "\n",
    "**Submodule description:**\n",
    "+ [`torch.nn`](https://pytorch.org/docs/stable/nn.html): These are the basic building blocks for graphs.\n",
    "+ [`torch.nn.functional`](https://pytorch.org/docs/stable/nn.functional.html): Provides important functions.\n",
    "+ [`torch.optim`](https://pytorch.org/docs/stable/optim.html): `torch.optim` is a package implementing various optimization algorithms. Most commonly used methods are already supported, and the interface is general enough, so that more sophisticated ones can be also easily integrated in the future."
   ]
  },
  {
   "cell_type": "code",
   "execution_count": 7,
   "id": "325ced80",
   "metadata": {},
   "outputs": [],
   "source": [
    "import torch.nn as nn\n",
    "import torch.nn.functional as F\n",
    "import torch.optim as optim"
   ]
  },
  {
   "cell_type": "markdown",
   "id": "616df9fa",
   "metadata": {},
   "source": [
    "### <center>Create a class for the Neural Network</center>\n",
    "\n",
    "---\n",
    "\n",
    "**Function and Class description:**\n",
    "+ [`torch.nn.Module()`](https://pytorch.org/docs/stable/generated/torch.nn.Module.html#torch.nn.Module): Base class for all neural network modules. Your models should also subclass this class. Modules can also contain other Modules, allowing to nest them in a tree structure. You can assign the submodules as regular attributes.\n",
    "\n",
    "+ [`torch.nn.Conv2d()`](https://pytorch.org/docs/stable/generated/torch.nn.Conv2d.html#torch.nn.Conv2d): Applies a 2D convolution over an input signal composed of several input planes.\n",
    "\n",
    "+ [`torch.nn.Dropout2d()`](https://pytorch.org/docs/stable/generated/torch.nn.Dropout2d.html#torch.nn.Dropout2d): Randomly zero out entire channels (a channel is a 2D feature map, e.g., the $j$-th channel of the $i$-th sample in the batched input is a 2D tensor $input[i][j]$)\n",
    "\n",
    "+ [`torch.nn.Linear()`](https://pytorch.org/docs/stable/generated/torch.nn.Linear.html#torch.nn.Linear): Applies a linear transformation to the incoming data: $y = xA^T + b$\n",
    "\n",
    "+ [`torch.nn.functional.relu()`](https://pytorch.org/docs/stable/generated/torch.nn.functional.relu.html#torch.nn.functional.relu): Applies the rectified linear unit function element-wise.\n",
    "\n",
    "+ [`torch.nn.functional.max_pool2d()`](https://pytorch.org/docs/stable/generated/torch.nn.functional.max_pool2d.html#torch.nn.functional.max_pool2d): Applies a 2D max pooling over an input signal composed of several input planes.\n",
    "\n",
    "+ [`torch.Tensor.view()`](https://pytorch.org/docs/stable/generated/torch.Tensor.view.html#torch.Tensor.view): Returns a new tensor with the same data as the `self` tensor but of a different `shape`.\n",
    "\n",
    "+ [`torch.nn.functional.dropout()`](https://pytorch.org/docs/stable/generated/torch.nn.functional.dropout.html#torch.nn.functional.dropout): During training, randomly zeroes some of the elements of the input tensor with probability `p` using samples from a Bernoulli distribution.\n",
    "\n",
    "+ [`torch.nn.functional.log_softmax()`](https://pytorch.org/docs/stable/generated/torch.nn.functional.log_softmax.html#torch.nn.functional.log_softmax): Applies a softmax followed by a logarithm. While mathematically equivalent to log(softmax(x)), doing these two operations separately is slower and numerically unstable. This function uses an alternative formulation to compute the output and gradient correctly.\n",
    "\n",
    "+ [`torch.optim.SGD()`](https://pytorch.org/docs/stable/generated/torch.optim.SGD.html#torch.optim.SGD): Implements stochastic gradient descent (optionally with momentum).\n",
    "\n",
    "+ [`torch.nn.Module.parameters()`](https://pytorch.org/docs/stable/generated/torch.nn.Module.html#torch.nn.Module.parameters): Returns an iterator over module parameters. This is typically passed to an optimizer."
   ]
  },
  {
   "cell_type": "code",
   "execution_count": 8,
   "id": "55e2f456",
   "metadata": {},
   "outputs": [],
   "source": [
    "class Neural_Network(nn.Module):\n",
    "    def __init__(self):\n",
    "        super(Neural_Network, self).__init__()\n",
    "        self.conv1 = nn.Conv2d(1, 10, kernel_size=5)\n",
    "        self.conv2 = nn.Conv2d(10, 20, kernel_size=5)\n",
    "        self.conv2_drop = nn.Dropout2d()\n",
    "        self.fc1 = nn.Linear(320, 50)\n",
    "        self.fc2 = nn.Linear(50, 10)\n",
    "\n",
    "    def forward(self, x):\n",
    "        x = F.relu(F.max_pool2d(self.conv1(x), 2))\n",
    "        x = F.relu(F.max_pool2d(self.conv2_drop(self.conv2(x)), 2))\n",
    "        x = x.view(-1, 320)\n",
    "        x = F.relu(self.fc1(x))\n",
    "        x = F.dropout(x, training=self.training)\n",
    "        x = self.fc2(x)\n",
    "        return F.log_softmax(x)"
   ]
  },
  {
   "cell_type": "code",
   "execution_count": 9,
   "id": "467f7f32",
   "metadata": {},
   "outputs": [],
   "source": [
    "neural_network = Neural_Network()\n",
    "optimizer = optim.SGD(neural_network.parameters(),lr = learning_rate, momentum = momentum)"
   ]
  },
  {
   "cell_type": "markdown",
   "id": "7f182961",
   "metadata": {},
   "source": [
    "## <center>Training the Model</center>"
   ]
  },
  {
   "cell_type": "markdown",
   "id": "531137b8",
   "metadata": {},
   "source": [
    "### <center>Variables used to keep track of the progress</center>\n",
    "\n",
    "---\n",
    "\n",
    "**Variable description:**\n",
    "+ `train_losses`: Stores train losses.\n",
    "+ `test_losses`: Stores test losses."
   ]
  },
  {
   "cell_type": "code",
   "execution_count": 10,
   "id": "918ce26b",
   "metadata": {},
   "outputs": [],
   "source": [
    "train_losses = []\n",
    "train_counter = []\n",
    "test_losses = []\n",
    "test_counter = [i*len(train_loader.dataset) for i in range(n_epochs + 1)]"
   ]
  },
  {
   "cell_type": "markdown",
   "id": "dc2ef977",
   "metadata": {},
   "source": [
    "### <center>Train loop</center>\n",
    "\n",
    "---\n",
    "\n",
    "**Function description:**\n",
    "+ [`torch.nn.Module.train()`](https://pytorch.org/docs/stable/generated/torch.nn.Module.html#torch.nn.Module.train): Sets the module in training mode. This has any effect only on certain modules.\n",
    "\n",
    "+ [`torch.optim.Optimizer.zero_grad()`](https://pytorch.org/docs/stable/generated/torch.optim.Optimizer.zero_grad.html#torch.optim.Optimizer.zero_grad): Sets the gradients of all optimized `torch.Tensor`' s to zero.\n",
    "\n",
    "+ [`torch.nn.functional.nll_loss()`](https://pytorch.org/docs/stable/generated/torch.nn.functional.nll_loss.html#torch.nn.functional.nll_loss): The negative log likelihood loss.\n",
    "\n",
    "+ [`torch.Tensor.backward()`](https://pytorch.org/docs/stable/generated/torch.Tensor.backward.html#torch.Tensor.backward): Computes the gradient of current tensor w.r.t. graph leaves.\n",
    "\n",
    "+ [`torch.optim.Optimizer.step()`](https://pytorch.org/docs/stable/generated/torch.optim.Optimizer.step.html#torch.optim.Optimizer.step): Performs a single optimization step (parameter update).\n",
    "\n",
    "+ [`torch.Tensor.item()`](https://pytorch.org/docs/stable/generated/torch.Tensor.item.html#torch.Tensor.item): Returns the value of this tensor as a standard Python number."
   ]
  },
  {
   "cell_type": "code",
   "execution_count": 11,
   "id": "468238d3",
   "metadata": {},
   "outputs": [],
   "source": [
    "def train(epoch):\n",
    "  neural_network.train()\n",
    "  for batch_idx, (data, target) in enumerate(train_loader):\n",
    "    optimizer.zero_grad()\n",
    "    output = neural_network(data)\n",
    "    loss = F.nll_loss(output, target)\n",
    "    loss.backward()\n",
    "    optimizer.step()\n",
    "    if batch_idx % log_interval == 0:\n",
    "      print('Train Epoch: {} [{}/{} ({:.0f}%)]\\tLoss: {:.6f}'.format(\n",
    "        epoch, batch_idx * len(data), len(train_loader.dataset),\n",
    "        100. * batch_idx / len(train_loader), loss.item()))\n",
    "      train_losses.append(loss.item())\n",
    "      train_counter.append(\n",
    "        (batch_idx*64) + ((epoch-1)*len(train_loader.dataset)))"
   ]
  },
  {
   "cell_type": "markdown",
   "id": "257b3e7d",
   "metadata": {},
   "source": [
    "### <center>Test loop</center>\n",
    "\n",
    "---\n",
    "\n",
    "**Function description:**\n",
    "+ [`torch.nn.Module.eval()`](https://pytorch.org/docs/stable/generated/torch.nn.Module.html#torch.nn.Module): Sets the module in evaluation mode. This has any effect only on certain modules.\n",
    "\n",
    "+ [`torch.no_grad()`](https://pytorch.org/docs/stable/generated/torch.no_grad.html#torch.no_grad): Context-manager that disabled gradient calculation."
   ]
  },
  {
   "cell_type": "code",
   "execution_count": 12,
   "id": "a30e7785",
   "metadata": {},
   "outputs": [],
   "source": [
    "def test():\n",
    "  neural_network.eval()\n",
    "  test_loss = 0\n",
    "  correct = 0\n",
    "  with torch.no_grad():\n",
    "    for data, target in test_loader:\n",
    "      output = neural_network(data)\n",
    "      test_loss += F.nll_loss(output, target, size_average=False).item()\n",
    "      pred = output.data.max(1, keepdim=True)[1]\n",
    "      correct += pred.eq(target.data.view_as(pred)).sum()\n",
    "  test_loss /= len(test_loader.dataset)\n",
    "  test_losses.append(test_loss)\n",
    "  print('\\nTest set: Avg. loss: {:.4f}, Accuracy: {}/{} ({:.0f}%)\\n'.format(\n",
    "    test_loss, correct, len(test_loader.dataset),\n",
    "    100. * correct / len(test_loader.dataset)))"
   ]
  },
  {
   "cell_type": "code",
   "execution_count": 13,
   "id": "720d51ff",
   "metadata": {},
   "outputs": [
    {
     "name": "stderr",
     "output_type": "stream",
     "text": [
      "C:\\Users\\YASH\\AppData\\Local\\Temp\\ipykernel_17892\\4204875352.py:17: UserWarning: Implicit dimension choice for log_softmax has been deprecated. Change the call to include dim=X as an argument.\n",
      "  return F.log_softmax(x)\n",
      "C:\\Temp\\Python\\WPy64-31040\\python-3.10.4.amd64\\lib\\site-packages\\torch\\nn\\_reduction.py:42: UserWarning: size_average and reduce args will be deprecated, please use reduction='sum' instead.\n",
      "  warnings.warn(warning.format(ret))\n"
     ]
    },
    {
     "name": "stdout",
     "output_type": "stream",
     "text": [
      "\n",
      "Test set: Avg. loss: 2.3096, Accuracy: 924/10000 (9%)\n",
      "\n",
      "Train Epoch: 1 [0/60000 (0%)]\tLoss: 2.325928\n",
      "Train Epoch: 1 [640/60000 (1%)]\tLoss: 2.287777\n",
      "Train Epoch: 1 [1280/60000 (2%)]\tLoss: 2.281435\n",
      "Train Epoch: 1 [1920/60000 (3%)]\tLoss: 2.243744\n",
      "Train Epoch: 1 [2560/60000 (4%)]\tLoss: 2.264606\n",
      "Train Epoch: 1 [3200/60000 (5%)]\tLoss: 2.240564\n",
      "Train Epoch: 1 [3840/60000 (6%)]\tLoss: 2.153203\n",
      "Train Epoch: 1 [4480/60000 (7%)]\tLoss: 2.211479\n",
      "Train Epoch: 1 [5120/60000 (9%)]\tLoss: 2.056642\n",
      "Train Epoch: 1 [5760/60000 (10%)]\tLoss: 2.010620\n",
      "Train Epoch: 1 [6400/60000 (11%)]\tLoss: 2.008978\n",
      "Train Epoch: 1 [7040/60000 (12%)]\tLoss: 1.867196\n",
      "Train Epoch: 1 [7680/60000 (13%)]\tLoss: 1.755029\n",
      "Train Epoch: 1 [8320/60000 (14%)]\tLoss: 1.617570\n",
      "Train Epoch: 1 [8960/60000 (15%)]\tLoss: 1.411560\n",
      "Train Epoch: 1 [9600/60000 (16%)]\tLoss: 1.595002\n",
      "Train Epoch: 1 [10240/60000 (17%)]\tLoss: 1.259321\n",
      "Train Epoch: 1 [10880/60000 (18%)]\tLoss: 1.326811\n",
      "Train Epoch: 1 [11520/60000 (19%)]\tLoss: 1.236616\n",
      "Train Epoch: 1 [12160/60000 (20%)]\tLoss: 1.041969\n",
      "Train Epoch: 1 [12800/60000 (21%)]\tLoss: 1.129468\n",
      "Train Epoch: 1 [13440/60000 (22%)]\tLoss: 0.999631\n",
      "Train Epoch: 1 [14080/60000 (23%)]\tLoss: 1.330030\n",
      "Train Epoch: 1 [14720/60000 (25%)]\tLoss: 0.824770\n",
      "Train Epoch: 1 [15360/60000 (26%)]\tLoss: 0.789587\n",
      "Train Epoch: 1 [16000/60000 (27%)]\tLoss: 0.966986\n",
      "Train Epoch: 1 [16640/60000 (28%)]\tLoss: 0.946299\n",
      "Train Epoch: 1 [17280/60000 (29%)]\tLoss: 0.625569\n",
      "Train Epoch: 1 [17920/60000 (30%)]\tLoss: 0.808460\n",
      "Train Epoch: 1 [18560/60000 (31%)]\tLoss: 0.827888\n",
      "Train Epoch: 1 [19200/60000 (32%)]\tLoss: 1.157284\n",
      "Train Epoch: 1 [19840/60000 (33%)]\tLoss: 0.806003\n",
      "Train Epoch: 1 [20480/60000 (34%)]\tLoss: 0.661824\n",
      "Train Epoch: 1 [21120/60000 (35%)]\tLoss: 0.597554\n",
      "Train Epoch: 1 [21760/60000 (36%)]\tLoss: 0.683154\n",
      "Train Epoch: 1 [22400/60000 (37%)]\tLoss: 0.783747\n",
      "Train Epoch: 1 [23040/60000 (38%)]\tLoss: 0.634743\n",
      "Train Epoch: 1 [23680/60000 (39%)]\tLoss: 0.578946\n",
      "Train Epoch: 1 [24320/60000 (41%)]\tLoss: 0.766759\n",
      "Train Epoch: 1 [24960/60000 (42%)]\tLoss: 0.989692\n",
      "Train Epoch: 1 [25600/60000 (43%)]\tLoss: 0.640070\n",
      "Train Epoch: 1 [26240/60000 (44%)]\tLoss: 0.574866\n",
      "Train Epoch: 1 [26880/60000 (45%)]\tLoss: 0.673536\n",
      "Train Epoch: 1 [27520/60000 (46%)]\tLoss: 0.543499\n",
      "Train Epoch: 1 [28160/60000 (47%)]\tLoss: 0.608887\n",
      "Train Epoch: 1 [28800/60000 (48%)]\tLoss: 0.447567\n",
      "Train Epoch: 1 [29440/60000 (49%)]\tLoss: 0.683415\n",
      "Train Epoch: 1 [30080/60000 (50%)]\tLoss: 0.633062\n",
      "Train Epoch: 1 [30720/60000 (51%)]\tLoss: 0.666816\n",
      "Train Epoch: 1 [31360/60000 (52%)]\tLoss: 0.481407\n",
      "Train Epoch: 1 [32000/60000 (53%)]\tLoss: 0.648870\n",
      "Train Epoch: 1 [32640/60000 (54%)]\tLoss: 0.487477\n",
      "Train Epoch: 1 [33280/60000 (55%)]\tLoss: 0.460939\n",
      "Train Epoch: 1 [33920/60000 (57%)]\tLoss: 0.591776\n",
      "Train Epoch: 1 [34560/60000 (58%)]\tLoss: 0.591341\n",
      "Train Epoch: 1 [35200/60000 (59%)]\tLoss: 0.681803\n",
      "Train Epoch: 1 [35840/60000 (60%)]\tLoss: 0.572724\n",
      "Train Epoch: 1 [36480/60000 (61%)]\tLoss: 0.552490\n",
      "Train Epoch: 1 [37120/60000 (62%)]\tLoss: 0.759867\n",
      "Train Epoch: 1 [37760/60000 (63%)]\tLoss: 0.673405\n",
      "Train Epoch: 1 [38400/60000 (64%)]\tLoss: 0.582132\n",
      "Train Epoch: 1 [39040/60000 (65%)]\tLoss: 0.551710\n",
      "Train Epoch: 1 [39680/60000 (66%)]\tLoss: 0.683344\n",
      "Train Epoch: 1 [40320/60000 (67%)]\tLoss: 0.294899\n",
      "Train Epoch: 1 [40960/60000 (68%)]\tLoss: 0.355320\n",
      "Train Epoch: 1 [41600/60000 (69%)]\tLoss: 0.430928\n",
      "Train Epoch: 1 [42240/60000 (70%)]\tLoss: 0.475248\n",
      "Train Epoch: 1 [42880/60000 (71%)]\tLoss: 0.477905\n",
      "Train Epoch: 1 [43520/60000 (72%)]\tLoss: 0.478320\n",
      "Train Epoch: 1 [44160/60000 (74%)]\tLoss: 0.487703\n",
      "Train Epoch: 1 [44800/60000 (75%)]\tLoss: 0.598510\n",
      "Train Epoch: 1 [45440/60000 (76%)]\tLoss: 0.541711\n",
      "Train Epoch: 1 [46080/60000 (77%)]\tLoss: 0.463225\n",
      "Train Epoch: 1 [46720/60000 (78%)]\tLoss: 0.413914\n",
      "Train Epoch: 1 [47360/60000 (79%)]\tLoss: 0.596767\n",
      "Train Epoch: 1 [48000/60000 (80%)]\tLoss: 0.602462\n",
      "Train Epoch: 1 [48640/60000 (81%)]\tLoss: 0.372761\n",
      "Train Epoch: 1 [49280/60000 (82%)]\tLoss: 0.425672\n",
      "Train Epoch: 1 [49920/60000 (83%)]\tLoss: 0.487444\n",
      "Train Epoch: 1 [50560/60000 (84%)]\tLoss: 0.587833\n",
      "Train Epoch: 1 [51200/60000 (85%)]\tLoss: 0.830632\n",
      "Train Epoch: 1 [51840/60000 (86%)]\tLoss: 0.607778\n",
      "Train Epoch: 1 [52480/60000 (87%)]\tLoss: 0.686134\n",
      "Train Epoch: 1 [53120/60000 (88%)]\tLoss: 0.640983\n",
      "Train Epoch: 1 [53760/60000 (90%)]\tLoss: 0.489938\n",
      "Train Epoch: 1 [54400/60000 (91%)]\tLoss: 0.512497\n",
      "Train Epoch: 1 [55040/60000 (92%)]\tLoss: 0.490443\n",
      "Train Epoch: 1 [55680/60000 (93%)]\tLoss: 0.303119\n",
      "Train Epoch: 1 [56320/60000 (94%)]\tLoss: 0.466213\n",
      "Train Epoch: 1 [56960/60000 (95%)]\tLoss: 0.413956\n",
      "Train Epoch: 1 [57600/60000 (96%)]\tLoss: 0.482982\n",
      "Train Epoch: 1 [58240/60000 (97%)]\tLoss: 0.490951\n",
      "Train Epoch: 1 [58880/60000 (98%)]\tLoss: 0.767056\n",
      "Train Epoch: 1 [59520/60000 (99%)]\tLoss: 0.393448\n",
      "\n",
      "Test set: Avg. loss: 0.1848, Accuracy: 9464/10000 (95%)\n",
      "\n",
      "Train Epoch: 2 [0/60000 (0%)]\tLoss: 0.429986\n",
      "Train Epoch: 2 [640/60000 (1%)]\tLoss: 0.464159\n",
      "Train Epoch: 2 [1280/60000 (2%)]\tLoss: 0.329130\n",
      "Train Epoch: 2 [1920/60000 (3%)]\tLoss: 0.426759\n",
      "Train Epoch: 2 [2560/60000 (4%)]\tLoss: 0.461107\n",
      "Train Epoch: 2 [3200/60000 (5%)]\tLoss: 0.468949\n",
      "Train Epoch: 2 [3840/60000 (6%)]\tLoss: 0.383617\n",
      "Train Epoch: 2 [4480/60000 (7%)]\tLoss: 0.602918\n",
      "Train Epoch: 2 [5120/60000 (9%)]\tLoss: 0.413309\n",
      "Train Epoch: 2 [5760/60000 (10%)]\tLoss: 0.755199\n",
      "Train Epoch: 2 [6400/60000 (11%)]\tLoss: 0.561849\n",
      "Train Epoch: 2 [7040/60000 (12%)]\tLoss: 0.445345\n",
      "Train Epoch: 2 [7680/60000 (13%)]\tLoss: 0.645827\n",
      "Train Epoch: 2 [8320/60000 (14%)]\tLoss: 0.332740\n",
      "Train Epoch: 2 [8960/60000 (15%)]\tLoss: 0.243918\n",
      "Train Epoch: 2 [9600/60000 (16%)]\tLoss: 0.410815\n",
      "Train Epoch: 2 [10240/60000 (17%)]\tLoss: 0.497105\n",
      "Train Epoch: 2 [10880/60000 (18%)]\tLoss: 0.504765\n",
      "Train Epoch: 2 [11520/60000 (19%)]\tLoss: 0.553496\n",
      "Train Epoch: 2 [12160/60000 (20%)]\tLoss: 0.336827\n",
      "Train Epoch: 2 [12800/60000 (21%)]\tLoss: 0.472006\n",
      "Train Epoch: 2 [13440/60000 (22%)]\tLoss: 0.586507\n",
      "Train Epoch: 2 [14080/60000 (23%)]\tLoss: 0.457137\n",
      "Train Epoch: 2 [14720/60000 (25%)]\tLoss: 0.300451\n",
      "Train Epoch: 2 [15360/60000 (26%)]\tLoss: 0.301973\n",
      "Train Epoch: 2 [16000/60000 (27%)]\tLoss: 0.580406\n",
      "Train Epoch: 2 [16640/60000 (28%)]\tLoss: 0.663603\n",
      "Train Epoch: 2 [17280/60000 (29%)]\tLoss: 0.155460\n",
      "Train Epoch: 2 [17920/60000 (30%)]\tLoss: 0.309968\n",
      "Train Epoch: 2 [18560/60000 (31%)]\tLoss: 0.339639\n",
      "Train Epoch: 2 [19200/60000 (32%)]\tLoss: 0.445990\n",
      "Train Epoch: 2 [19840/60000 (33%)]\tLoss: 0.340366\n",
      "Train Epoch: 2 [20480/60000 (34%)]\tLoss: 0.310566\n",
      "Train Epoch: 2 [21120/60000 (35%)]\tLoss: 0.311738\n",
      "Train Epoch: 2 [21760/60000 (36%)]\tLoss: 0.628302\n",
      "Train Epoch: 2 [22400/60000 (37%)]\tLoss: 0.418044\n",
      "Train Epoch: 2 [23040/60000 (38%)]\tLoss: 0.237338\n",
      "Train Epoch: 2 [23680/60000 (39%)]\tLoss: 0.386453\n",
      "Train Epoch: 2 [24320/60000 (41%)]\tLoss: 0.343992\n",
      "Train Epoch: 2 [24960/60000 (42%)]\tLoss: 0.556705\n",
      "Train Epoch: 2 [25600/60000 (43%)]\tLoss: 0.484134\n",
      "Train Epoch: 2 [26240/60000 (44%)]\tLoss: 0.360078\n",
      "Train Epoch: 2 [26880/60000 (45%)]\tLoss: 0.394229\n",
      "Train Epoch: 2 [27520/60000 (46%)]\tLoss: 0.516849\n",
      "Train Epoch: 2 [28160/60000 (47%)]\tLoss: 0.266456\n",
      "Train Epoch: 2 [28800/60000 (48%)]\tLoss: 0.244922\n",
      "Train Epoch: 2 [29440/60000 (49%)]\tLoss: 0.216248\n",
      "Train Epoch: 2 [30080/60000 (50%)]\tLoss: 0.307101\n",
      "Train Epoch: 2 [30720/60000 (51%)]\tLoss: 0.424510\n",
      "Train Epoch: 2 [31360/60000 (52%)]\tLoss: 0.214339\n",
      "Train Epoch: 2 [32000/60000 (53%)]\tLoss: 0.273415\n",
      "Train Epoch: 2 [32640/60000 (54%)]\tLoss: 0.746748\n",
      "Train Epoch: 2 [33280/60000 (55%)]\tLoss: 0.458034\n",
      "Train Epoch: 2 [33920/60000 (57%)]\tLoss: 0.451427\n",
      "Train Epoch: 2 [34560/60000 (58%)]\tLoss: 0.323588\n",
      "Train Epoch: 2 [35200/60000 (59%)]\tLoss: 0.444908\n",
      "Train Epoch: 2 [35840/60000 (60%)]\tLoss: 0.243984\n",
      "Train Epoch: 2 [36480/60000 (61%)]\tLoss: 0.150733\n",
      "Train Epoch: 2 [37120/60000 (62%)]\tLoss: 0.441348\n",
      "Train Epoch: 2 [37760/60000 (63%)]\tLoss: 0.222513\n",
      "Train Epoch: 2 [38400/60000 (64%)]\tLoss: 0.303787\n",
      "Train Epoch: 2 [39040/60000 (65%)]\tLoss: 0.386634\n",
      "Train Epoch: 2 [39680/60000 (66%)]\tLoss: 0.651145\n",
      "Train Epoch: 2 [40320/60000 (67%)]\tLoss: 0.320289\n",
      "Train Epoch: 2 [40960/60000 (68%)]\tLoss: 0.577124\n",
      "Train Epoch: 2 [41600/60000 (69%)]\tLoss: 0.321719\n",
      "Train Epoch: 2 [42240/60000 (70%)]\tLoss: 0.324351\n",
      "Train Epoch: 2 [42880/60000 (71%)]\tLoss: 0.310264\n",
      "Train Epoch: 2 [43520/60000 (72%)]\tLoss: 0.336359\n",
      "Train Epoch: 2 [44160/60000 (74%)]\tLoss: 0.510451\n",
      "Train Epoch: 2 [44800/60000 (75%)]\tLoss: 0.279300\n",
      "Train Epoch: 2 [45440/60000 (76%)]\tLoss: 0.444182\n",
      "Train Epoch: 2 [46080/60000 (77%)]\tLoss: 0.313256\n",
      "Train Epoch: 2 [46720/60000 (78%)]\tLoss: 0.437705\n",
      "Train Epoch: 2 [47360/60000 (79%)]\tLoss: 0.351937\n",
      "Train Epoch: 2 [48000/60000 (80%)]\tLoss: 0.356779\n",
      "Train Epoch: 2 [48640/60000 (81%)]\tLoss: 0.184292\n",
      "Train Epoch: 2 [49280/60000 (82%)]\tLoss: 0.454972\n",
      "Train Epoch: 2 [49920/60000 (83%)]\tLoss: 0.241496\n",
      "Train Epoch: 2 [50560/60000 (84%)]\tLoss: 0.302847\n",
      "Train Epoch: 2 [51200/60000 (85%)]\tLoss: 0.370456\n",
      "Train Epoch: 2 [51840/60000 (86%)]\tLoss: 0.412515\n",
      "Train Epoch: 2 [52480/60000 (87%)]\tLoss: 0.573579\n",
      "Train Epoch: 2 [53120/60000 (88%)]\tLoss: 0.332076\n",
      "Train Epoch: 2 [53760/60000 (90%)]\tLoss: 0.376094\n",
      "Train Epoch: 2 [54400/60000 (91%)]\tLoss: 0.561537\n",
      "Train Epoch: 2 [55040/60000 (92%)]\tLoss: 0.306807\n",
      "Train Epoch: 2 [55680/60000 (93%)]\tLoss: 0.380284\n",
      "Train Epoch: 2 [56320/60000 (94%)]\tLoss: 0.344013\n",
      "Train Epoch: 2 [56960/60000 (95%)]\tLoss: 0.375104\n",
      "Train Epoch: 2 [57600/60000 (96%)]\tLoss: 0.564295\n",
      "Train Epoch: 2 [58240/60000 (97%)]\tLoss: 0.116652\n",
      "Train Epoch: 2 [58880/60000 (98%)]\tLoss: 0.321858\n",
      "Train Epoch: 2 [59520/60000 (99%)]\tLoss: 0.505928\n",
      "\n",
      "Test set: Avg. loss: 0.1206, Accuracy: 9644/10000 (96%)\n",
      "\n",
      "Train Epoch: 3 [0/60000 (0%)]\tLoss: 0.452969\n",
      "Train Epoch: 3 [640/60000 (1%)]\tLoss: 0.347338\n",
      "Train Epoch: 3 [1280/60000 (2%)]\tLoss: 0.330971\n",
      "Train Epoch: 3 [1920/60000 (3%)]\tLoss: 0.326971\n",
      "Train Epoch: 3 [2560/60000 (4%)]\tLoss: 0.324877\n",
      "Train Epoch: 3 [3200/60000 (5%)]\tLoss: 0.252425\n",
      "Train Epoch: 3 [3840/60000 (6%)]\tLoss: 0.353549\n",
      "Train Epoch: 3 [4480/60000 (7%)]\tLoss: 0.551114\n",
      "Train Epoch: 3 [5120/60000 (9%)]\tLoss: 0.370528\n",
      "Train Epoch: 3 [5760/60000 (10%)]\tLoss: 0.418699\n",
      "Train Epoch: 3 [6400/60000 (11%)]\tLoss: 0.452852\n",
      "Train Epoch: 3 [7040/60000 (12%)]\tLoss: 0.291779\n",
      "Train Epoch: 3 [7680/60000 (13%)]\tLoss: 0.296201\n",
      "Train Epoch: 3 [8320/60000 (14%)]\tLoss: 0.139327\n",
      "Train Epoch: 3 [8960/60000 (15%)]\tLoss: 0.269807\n",
      "Train Epoch: 3 [9600/60000 (16%)]\tLoss: 0.211784\n",
      "Train Epoch: 3 [10240/60000 (17%)]\tLoss: 0.282607\n",
      "Train Epoch: 3 [10880/60000 (18%)]\tLoss: 0.354368\n",
      "Train Epoch: 3 [11520/60000 (19%)]\tLoss: 0.351989\n",
      "Train Epoch: 3 [12160/60000 (20%)]\tLoss: 0.508785\n",
      "Train Epoch: 3 [12800/60000 (21%)]\tLoss: 0.293373\n",
      "Train Epoch: 3 [13440/60000 (22%)]\tLoss: 0.434575\n",
      "Train Epoch: 3 [14080/60000 (23%)]\tLoss: 0.332361\n",
      "Train Epoch: 3 [14720/60000 (25%)]\tLoss: 0.141571\n",
      "Train Epoch: 3 [15360/60000 (26%)]\tLoss: 0.346640\n",
      "Train Epoch: 3 [16000/60000 (27%)]\tLoss: 0.237908\n",
      "Train Epoch: 3 [16640/60000 (28%)]\tLoss: 0.295028\n",
      "Train Epoch: 3 [17280/60000 (29%)]\tLoss: 0.224397\n",
      "Train Epoch: 3 [17920/60000 (30%)]\tLoss: 0.281971\n",
      "Train Epoch: 3 [18560/60000 (31%)]\tLoss: 0.331640\n",
      "Train Epoch: 3 [19200/60000 (32%)]\tLoss: 0.300071\n",
      "Train Epoch: 3 [19840/60000 (33%)]\tLoss: 0.285460\n",
      "Train Epoch: 3 [20480/60000 (34%)]\tLoss: 0.241314\n",
      "Train Epoch: 3 [21120/60000 (35%)]\tLoss: 0.256479\n",
      "Train Epoch: 3 [21760/60000 (36%)]\tLoss: 0.437212\n",
      "Train Epoch: 3 [22400/60000 (37%)]\tLoss: 0.308592\n",
      "Train Epoch: 3 [23040/60000 (38%)]\tLoss: 0.313516\n",
      "Train Epoch: 3 [23680/60000 (39%)]\tLoss: 0.300220\n",
      "Train Epoch: 3 [24320/60000 (41%)]\tLoss: 0.149883\n",
      "Train Epoch: 3 [24960/60000 (42%)]\tLoss: 0.330711\n",
      "Train Epoch: 3 [25600/60000 (43%)]\tLoss: 0.541360\n",
      "Train Epoch: 3 [26240/60000 (44%)]\tLoss: 0.269278\n",
      "Train Epoch: 3 [26880/60000 (45%)]\tLoss: 0.421336\n",
      "Train Epoch: 3 [27520/60000 (46%)]\tLoss: 0.266436\n",
      "Train Epoch: 3 [28160/60000 (47%)]\tLoss: 0.311510\n",
      "Train Epoch: 3 [28800/60000 (48%)]\tLoss: 0.380523\n",
      "Train Epoch: 3 [29440/60000 (49%)]\tLoss: 0.286952\n",
      "Train Epoch: 3 [30080/60000 (50%)]\tLoss: 0.349709\n",
      "Train Epoch: 3 [30720/60000 (51%)]\tLoss: 0.169831\n",
      "Train Epoch: 3 [31360/60000 (52%)]\tLoss: 0.466622\n",
      "Train Epoch: 3 [32000/60000 (53%)]\tLoss: 0.329536\n",
      "Train Epoch: 3 [32640/60000 (54%)]\tLoss: 0.271869\n",
      "Train Epoch: 3 [33280/60000 (55%)]\tLoss: 0.276771\n",
      "Train Epoch: 3 [33920/60000 (57%)]\tLoss: 0.247904\n",
      "Train Epoch: 3 [34560/60000 (58%)]\tLoss: 0.209247\n",
      "Train Epoch: 3 [35200/60000 (59%)]\tLoss: 0.268021\n",
      "Train Epoch: 3 [35840/60000 (60%)]\tLoss: 0.327421\n",
      "Train Epoch: 3 [36480/60000 (61%)]\tLoss: 0.306648\n",
      "Train Epoch: 3 [37120/60000 (62%)]\tLoss: 0.386740\n",
      "Train Epoch: 3 [37760/60000 (63%)]\tLoss: 0.405291\n",
      "Train Epoch: 3 [38400/60000 (64%)]\tLoss: 0.293277\n",
      "Train Epoch: 3 [39040/60000 (65%)]\tLoss: 0.346611\n",
      "Train Epoch: 3 [39680/60000 (66%)]\tLoss: 0.507923\n",
      "Train Epoch: 3 [40320/60000 (67%)]\tLoss: 0.390662\n",
      "Train Epoch: 3 [40960/60000 (68%)]\tLoss: 0.327551\n",
      "Train Epoch: 3 [41600/60000 (69%)]\tLoss: 0.227085\n",
      "Train Epoch: 3 [42240/60000 (70%)]\tLoss: 0.450285\n",
      "Train Epoch: 3 [42880/60000 (71%)]\tLoss: 0.417526\n",
      "Train Epoch: 3 [43520/60000 (72%)]\tLoss: 0.113671\n",
      "Train Epoch: 3 [44160/60000 (74%)]\tLoss: 0.404533\n",
      "Train Epoch: 3 [44800/60000 (75%)]\tLoss: 0.393645\n",
      "Train Epoch: 3 [45440/60000 (76%)]\tLoss: 0.299579\n",
      "Train Epoch: 3 [46080/60000 (77%)]\tLoss: 0.169370\n",
      "Train Epoch: 3 [46720/60000 (78%)]\tLoss: 0.308718\n",
      "Train Epoch: 3 [47360/60000 (79%)]\tLoss: 0.267586\n",
      "Train Epoch: 3 [48000/60000 (80%)]\tLoss: 0.368243\n",
      "Train Epoch: 3 [48640/60000 (81%)]\tLoss: 0.268438\n",
      "Train Epoch: 3 [49280/60000 (82%)]\tLoss: 0.293061\n",
      "Train Epoch: 3 [49920/60000 (83%)]\tLoss: 0.302545\n",
      "Train Epoch: 3 [50560/60000 (84%)]\tLoss: 0.332644\n",
      "Train Epoch: 3 [51200/60000 (85%)]\tLoss: 0.196587\n",
      "Train Epoch: 3 [51840/60000 (86%)]\tLoss: 0.501428\n",
      "Train Epoch: 3 [52480/60000 (87%)]\tLoss: 0.189432\n",
      "Train Epoch: 3 [53120/60000 (88%)]\tLoss: 0.277690\n",
      "Train Epoch: 3 [53760/60000 (90%)]\tLoss: 0.328541\n",
      "Train Epoch: 3 [54400/60000 (91%)]\tLoss: 0.376491\n",
      "Train Epoch: 3 [55040/60000 (92%)]\tLoss: 0.328333\n",
      "Train Epoch: 3 [55680/60000 (93%)]\tLoss: 0.179045\n",
      "Train Epoch: 3 [56320/60000 (94%)]\tLoss: 0.213263\n",
      "Train Epoch: 3 [56960/60000 (95%)]\tLoss: 0.126208\n",
      "Train Epoch: 3 [57600/60000 (96%)]\tLoss: 0.194810\n",
      "Train Epoch: 3 [58240/60000 (97%)]\tLoss: 0.334944\n",
      "Train Epoch: 3 [58880/60000 (98%)]\tLoss: 0.232745\n",
      "Train Epoch: 3 [59520/60000 (99%)]\tLoss: 0.267640\n",
      "\n",
      "Test set: Avg. loss: 0.0908, Accuracy: 9718/10000 (97%)\n",
      "\n"
     ]
    }
   ],
   "source": [
    "test()\n",
    "for epoch in range(1, n_epochs + 1):\n",
    "  train(epoch)\n",
    "  test()"
   ]
  },
  {
   "cell_type": "markdown",
   "id": "fdbf02b4",
   "metadata": {},
   "source": [
    "### <center>Plotting training curve</center>"
   ]
  },
  {
   "cell_type": "code",
   "execution_count": 14,
   "id": "f3387570",
   "metadata": {},
   "outputs": [
    {
     "data": {
      "text/plain": [
       "Text(0, 0.5, 'negative log likelihood loss')"
      ]
     },
     "execution_count": 14,
     "metadata": {},
     "output_type": "execute_result"
    },
    {
     "data": {
      "image/png": "[encoded data removed]",
      "text/plain": [
       "<Figure size 432x288 with 1 Axes>"
      ]
     },
     "metadata": {
      "needs_background": "light"
     },
     "output_type": "display_data"
    }
   ],
   "source": [
    "fig = plt.figure()\n",
    "\n",
    "plt.plot(train_counter, train_losses, color='blue')\n",
    "plt.legend(['Train Loss'], loc='upper right')\n",
    "plt.xlabel('number of training examples seen')\n",
    "plt.ylabel('negative log likelihood loss')"
   ]
  },
  {
   "cell_type": "markdown",
   "id": "32c48f42",
   "metadata": {},
   "source": [
    "## <center>Predicting values</center>"
   ]
  },
  {
   "cell_type": "code",
   "execution_count": 15,
   "id": "175bef8d",
   "metadata": {},
   "outputs": [
    {
     "name": "stderr",
     "output_type": "stream",
     "text": [
      "C:\\Users\\YASH\\AppData\\Local\\Temp\\ipykernel_17892\\4204875352.py:17: UserWarning: Implicit dimension choice for log_softmax has been deprecated. Change the call to include dim=X as an argument.\n",
      "  return F.log_softmax(x)\n"
     ]
    }
   ],
   "source": [
    "with torch.no_grad():\n",
    "  output = neural_network(example_data)"
   ]
  },
  {
   "cell_type": "code",
   "execution_count": 16,
   "id": "63afeefe",
   "metadata": {},
   "outputs": [
    {
     "data": {
      "image/png": "[encoded data removed]",
      "text/plain": [
       "<Figure size 432x288 with 6 Axes>"
      ]
     },
     "metadata": {},
     "output_type": "display_data"
    }
   ],
   "source": [
    "fig = plt.figure()\n",
    "for i in range(6):\n",
    "  plt.subplot(2,3,i+1)\n",
    "  plt.tight_layout()\n",
    "  plt.imshow(example_data[i][0], cmap='gray', interpolation='none')\n",
    "  plt.title(\"Prediction: {}\".format(\n",
    "    output.data.max(1, keepdim=True)[1][i].item()))\n",
    "  plt.xticks([])\n",
    "  plt.yticks([])"
   ]
  },
  {
   "cell_type": "code",
   "execution_count": null,
   "id": "45bf9817",
   "metadata": {},
   "outputs": [],
   "source": []
  }
 ],
 "metadata": {
  "kernelspec": {
   "display_name": "Python 3 (ipykernel)",
   "language": "python",
   "name": "python3"
  },
  "language_info": {
   "codemirror_mode": {
    "name": "ipython",
    "version": 3
   },
   "file_extension": ".py",
   "mimetype": "text/x-python",
   "name": "python",
   "nbconvert_exporter": "python",
   "pygments_lexer": "ipython3",
   "version": "3.10.4"
  }
 },
 "nbformat": 4,
 "nbformat_minor": 5
}
